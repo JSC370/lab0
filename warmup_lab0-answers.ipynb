{
 "cells": [
  {
   "cell_type": "markdown",
   "metadata": {
    "hideCode": true,
    "hidePrompt": true
   },
   "source": [
    "# JSC370 - Hello JSC370 - Rough Answers"
   ]
  },
  {
   "cell_type": "markdown",
   "metadata": {
    "hideCode": false,
    "hidePrompt": false
   },
   "source": [
    "# Question 0\n",
    "_Is this an observational study or experiment?  Briefly explain. (see this [reference](http://propensityscoreanalysis.pbworks.com/f/BehStatObserv.study.rosenbaum05.pdf) for a discussion of the two types of studies)_"
   ]
  },
  {
   "cell_type": "markdown",
   "metadata": {},
   "source": [
    "This is an observational study. Patients treatment was not assigned by randomization."
   ]
  },
  {
   "cell_type": "markdown",
   "metadata": {
    "hideCode": false,
    "hidePrompt": false
   },
   "source": [
    "# Question 1\n",
    "_Use Python or R to write **functions** that can simulate this study's data set by returning a Pandas data frame/R data frame, with appropriate labels for columns and rows.  It should contain information on patients that received open stone removal and percutaneous removal.  In particular the data set should contain the type of procedure, the outcome of the procedure, and the size of the kidney stone._"
   ]
  },
  {
   "cell_type": "markdown",
   "metadata": {
    "hideCode": true,
    "hidePrompt": true
   },
   "source": [
    "The 2x2 table of procedure vs. success for <2cm is: \n",
    "        \n",
    "\n",
    " Proc  |   success |    fail  | Total\n",
    "-------|--------|-----------|--------\n",
    "Open   |     81 | 6        | 87\n",
    "Perc   |  234    | 36        | 270\n",
    "Total  | 315    |   42      | 357\n",
    "\n",
    "The 2x2 table of procedure vs. success for >=2cm is: \n",
    "        \n",
    "\n",
    " Proc  |   success |    fail  | Total\n",
    "-------|--------|-----------|--------\n",
    "Open   |     192 | 71        | 263\n",
    "Perc   | 55    | 25        | 80\n",
    "Total  | 247    |   96      | 343\n",
    "\n",
    "\n"
   ]
  },
  {
   "cell_type": "code",
   "execution_count": 1,
   "metadata": {
    "hideCode": false,
    "hidePrompt": false
   },
   "outputs": [],
   "source": [
    "import numpy as np\n",
    "import pandas as pd\n",
    "\n",
    "def gendata(a11, a12, a21, a22, labels):\n",
    "    \"\"\"\n",
    "    Generate data based on\n",
    "              col1   col2\n",
    "    ----------------------\n",
    "    row1      a11    a12\n",
    "    row2      a21    a22\n",
    "    \"\"\"\n",
    "    row1 = np.repeat(labels['row_lab_1'], a11 + a12)\n",
    "    col1 = np.concatenate((\n",
    "        np.repeat(labels['col_lab_1'], a11),\n",
    "        np.repeat(labels['col_lab_2'], a12)\n",
    "    ))\n",
    "    row2 = np.repeat(labels['row_lab_2'], a21 + a22)\n",
    "    col2 = np.concatenate((\n",
    "        np.repeat(labels['col_lab_1'], a21),\n",
    "        np.repeat(labels['col_lab_2'], a22)\n",
    "    ))\n",
    "    row = np.concatenate((row1, row2))\n",
    "    col = np.concatenate((col1, col2))\n",
    "    \n",
    "    size = np.repeat(labels['size'], np.sum((a11, a12, a21, a22)))\n",
    "    \n",
    "    data = {\n",
    "        labels['row_name']: row,\n",
    "        labels['col_name']: col,\n",
    "        labels['size_name']: size\n",
    "    }\n",
    "    return(pd.DataFrame(data))"
   ]
  },
  {
   "cell_type": "code",
   "execution_count": 2,
   "metadata": {
    "hideCode": false,
    "hidePrompt": false
   },
   "outputs": [],
   "source": [
    "# create labels\n",
    "label_dict = {\n",
    "    'row_name': 'proc',\n",
    "    'row_lab_1': 'open',\n",
    "    'row_lab_2': 'perc',\n",
    "    'col_name': 'result',\n",
    "    'col_lab_1': 'success',\n",
    "    'col_lab_2': 'failure',\n",
    "    'size_name': 'size',\n",
    "    'size': 'le2'\n",
    "}\n",
    "df_le2 = gendata(81, 6, 234, 36, label_dict)\n",
    "label_dict.update({'size': 'ge2'})\n",
    "df_ge2 = gendata(192, 71, 55, 25, label_dict)\n",
    "df_all = pd.concat([df_le2, df_ge2])\n",
    "# set as category data types and order categories\n",
    "# this makes the odd ratio calculations easier to read\n",
    "df_all = df_all.astype('category')\n",
    "df_all['proc'] = df_all['proc'].cat.reorder_categories(\n",
    "    ['perc', 'open'])\n",
    "df_all['result'] = df_all['result'].cat.reorder_categories(\n",
    "    ['failure', 'success']\n",
    ")"
   ]
  },
  {
   "cell_type": "markdown",
   "metadata": {
    "hideCode": false,
    "hidePrompt": false
   },
   "source": [
    "# Question 2\n",
    "\n",
    "_Calculate two-way contingency tables of success versus procedure:_\n",
    "\n",
    "+ _among all patients;_\n",
    "+ _patients with a stone size $\\le 2cm$; and_\n",
    "+ _patients with a stone size $> 2cm$._\n",
    "\n",
    "_What do you observe?_"
   ]
  },
  {
   "cell_type": "code",
   "execution_count": 3,
   "metadata": {
    "hideCode": false,
    "hidePrompt": false
   },
   "outputs": [
    {
     "name": "stdout",
     "output_type": "stream",
     "text": [
      "All patients\n"
     ]
    },
    {
     "data": {
      "text/html": [
       "<div>\n",
       "<style scoped>\n",
       "    .dataframe tbody tr th:only-of-type {\n",
       "        vertical-align: middle;\n",
       "    }\n",
       "\n",
       "    .dataframe tbody tr th {\n",
       "        vertical-align: top;\n",
       "    }\n",
       "\n",
       "    .dataframe thead th {\n",
       "        text-align: right;\n",
       "    }\n",
       "</style>\n",
       "<table border=\"1\" class=\"dataframe\">\n",
       "  <thead>\n",
       "    <tr style=\"text-align: right;\">\n",
       "      <th>Result</th>\n",
       "      <th>failure</th>\n",
       "      <th>success</th>\n",
       "      <th>All</th>\n",
       "      <th>prop_success</th>\n",
       "    </tr>\n",
       "    <tr>\n",
       "      <th>Procedure</th>\n",
       "      <th></th>\n",
       "      <th></th>\n",
       "      <th></th>\n",
       "      <th></th>\n",
       "    </tr>\n",
       "  </thead>\n",
       "  <tbody>\n",
       "    <tr>\n",
       "      <th>perc</th>\n",
       "      <td>61</td>\n",
       "      <td>289</td>\n",
       "      <td>350</td>\n",
       "      <td>0.83</td>\n",
       "    </tr>\n",
       "    <tr>\n",
       "      <th>open</th>\n",
       "      <td>77</td>\n",
       "      <td>273</td>\n",
       "      <td>350</td>\n",
       "      <td>0.78</td>\n",
       "    </tr>\n",
       "    <tr>\n",
       "      <th>All</th>\n",
       "      <td>138</td>\n",
       "      <td>562</td>\n",
       "      <td>700</td>\n",
       "      <td>0.80</td>\n",
       "    </tr>\n",
       "  </tbody>\n",
       "</table>\n",
       "</div>"
      ],
      "text/plain": [
       "Result     failure  success  All  prop_success\n",
       "Procedure                                     \n",
       "perc            61      289  350          0.83\n",
       "open            77      273  350          0.78\n",
       "All            138      562  700          0.80"
      ]
     },
     "metadata": {},
     "output_type": "display_data"
    },
    {
     "name": "stdout",
     "output_type": "stream",
     "text": [
      "<2cm Group\n"
     ]
    },
    {
     "data": {
      "text/html": [
       "<div>\n",
       "<style scoped>\n",
       "    .dataframe tbody tr th:only-of-type {\n",
       "        vertical-align: middle;\n",
       "    }\n",
       "\n",
       "    .dataframe tbody tr th {\n",
       "        vertical-align: top;\n",
       "    }\n",
       "\n",
       "    .dataframe thead th {\n",
       "        text-align: right;\n",
       "    }\n",
       "</style>\n",
       "<table border=\"1\" class=\"dataframe\">\n",
       "  <thead>\n",
       "    <tr style=\"text-align: right;\">\n",
       "      <th>Result</th>\n",
       "      <th>failure</th>\n",
       "      <th>success</th>\n",
       "      <th>All</th>\n",
       "      <th>prop_success</th>\n",
       "    </tr>\n",
       "    <tr>\n",
       "      <th>Procedure</th>\n",
       "      <th></th>\n",
       "      <th></th>\n",
       "      <th></th>\n",
       "      <th></th>\n",
       "    </tr>\n",
       "  </thead>\n",
       "  <tbody>\n",
       "    <tr>\n",
       "      <th>open</th>\n",
       "      <td>6</td>\n",
       "      <td>81</td>\n",
       "      <td>87</td>\n",
       "      <td>0.93</td>\n",
       "    </tr>\n",
       "    <tr>\n",
       "      <th>perc</th>\n",
       "      <td>36</td>\n",
       "      <td>234</td>\n",
       "      <td>270</td>\n",
       "      <td>0.87</td>\n",
       "    </tr>\n",
       "    <tr>\n",
       "      <th>All</th>\n",
       "      <td>42</td>\n",
       "      <td>315</td>\n",
       "      <td>357</td>\n",
       "      <td>0.88</td>\n",
       "    </tr>\n",
       "  </tbody>\n",
       "</table>\n",
       "</div>"
      ],
      "text/plain": [
       "Result     failure  success  All  prop_success\n",
       "Procedure                                     \n",
       "open             6       81   87          0.93\n",
       "perc            36      234  270          0.87\n",
       "All             42      315  357          0.88"
      ]
     },
     "metadata": {},
     "output_type": "display_data"
    },
    {
     "name": "stdout",
     "output_type": "stream",
     "text": [
      ">=2cm Group\n"
     ]
    },
    {
     "data": {
      "text/html": [
       "<div>\n",
       "<style scoped>\n",
       "    .dataframe tbody tr th:only-of-type {\n",
       "        vertical-align: middle;\n",
       "    }\n",
       "\n",
       "    .dataframe tbody tr th {\n",
       "        vertical-align: top;\n",
       "    }\n",
       "\n",
       "    .dataframe thead th {\n",
       "        text-align: right;\n",
       "    }\n",
       "</style>\n",
       "<table border=\"1\" class=\"dataframe\">\n",
       "  <thead>\n",
       "    <tr style=\"text-align: right;\">\n",
       "      <th>Result</th>\n",
       "      <th>failure</th>\n",
       "      <th>success</th>\n",
       "      <th>All</th>\n",
       "      <th>prop_success</th>\n",
       "    </tr>\n",
       "    <tr>\n",
       "      <th>Procedure</th>\n",
       "      <th></th>\n",
       "      <th></th>\n",
       "      <th></th>\n",
       "      <th></th>\n",
       "    </tr>\n",
       "  </thead>\n",
       "  <tbody>\n",
       "    <tr>\n",
       "      <th>open</th>\n",
       "      <td>71</td>\n",
       "      <td>192</td>\n",
       "      <td>263</td>\n",
       "      <td>0.73</td>\n",
       "    </tr>\n",
       "    <tr>\n",
       "      <th>perc</th>\n",
       "      <td>25</td>\n",
       "      <td>55</td>\n",
       "      <td>80</td>\n",
       "      <td>0.69</td>\n",
       "    </tr>\n",
       "    <tr>\n",
       "      <th>All</th>\n",
       "      <td>96</td>\n",
       "      <td>247</td>\n",
       "      <td>343</td>\n",
       "      <td>0.72</td>\n",
       "    </tr>\n",
       "  </tbody>\n",
       "</table>\n",
       "</div>"
      ],
      "text/plain": [
       "Result     failure  success  All  prop_success\n",
       "Procedure                                     \n",
       "open            71      192  263          0.73\n",
       "perc            25       55   80          0.69\n",
       "All             96      247  343          0.72"
      ]
     },
     "metadata": {},
     "output_type": "display_data"
    }
   ],
   "source": [
    "tab_all = pd.crosstab(\n",
    "    df_all['proc'], df_all['result'],\n",
    "    colnames=['Result'],\n",
    "    rownames=['Procedure'],\n",
    "    margins = True\n",
    ")\n",
    "# get proportion of success\n",
    "tab_all['prop_success'] = np.round(\n",
    "    tab_all['success']/tab_all['All'], 2\n",
    ")\n",
    "tab_le2 = pd.crosstab(\n",
    "    df_le2['proc'], df_le2['result'],\n",
    "    colnames=['Result'],\n",
    "    rownames=['Procedure'],\n",
    "    margins = True\n",
    ")\n",
    "# get proportion of success\n",
    "tab_le2['prop_success'] = np.round(\n",
    "    tab_le2['success']/tab_le2['All'], 2\n",
    ")\n",
    "tab_ge2 = pd.crosstab(\n",
    "    df_ge2['proc'], df_ge2['result'],\n",
    "    colnames=['Result'],\n",
    "    rownames=['Procedure'],\n",
    "    margins = True\n",
    ")\n",
    "# get proportion of success\n",
    "tab_ge2['prop_success'] = np.round(\n",
    "    tab_ge2['success']/tab_ge2['All'], 2\n",
    ")\n",
    "print('All patients')\n",
    "display(tab_all)\n",
    "print('<2cm Group')\n",
    "display(tab_le2)\n",
    "print('>=2cm Group')\n",
    "display(tab_ge2)"
   ]
  },
  {
   "cell_type": "markdown",
   "metadata": {
    "hideCode": false,
    "hidePrompt": false
   },
   "source": [
    "The proportion of success is higher in the open group within each subgroup, yet when the data is aggregated the proportion of success is higher in the perc group."
   ]
  },
  {
   "cell_type": "markdown",
   "metadata": {
    "hideCode": false,
    "hidePrompt": false
   },
   "source": [
    "# Question 3\n",
    "\n",
    "_Briefly explain why kidney stone size is a confounding variable._"
   ]
  },
  {
   "cell_type": "markdown",
   "metadata": {
    "hideCode": false,
    "hidePrompt": false
   },
   "source": [
    "Kidney stone size is most likely a common cause of procedure and outcome.  Therefore, it is a confounding variable. This is why we see this behaviour."
   ]
  },
  {
   "cell_type": "markdown",
   "metadata": {
    "hideCode": false,
    "hidePrompt": false
   },
   "source": [
    "# Question 4\n",
    "\n",
    "_Fit two logistic regression models to predict outcome: (A) with only procedure as a covariate/feature; and (B) with procedure and size as covariates/features.  Which model gives a more accurate estimate of the odds ratio of success in open versus percutaneous?  Briefly explain._"
   ]
  },
  {
   "cell_type": "code",
   "execution_count": 4,
   "metadata": {
    "hideCode": false,
    "hidePrompt": false
   },
   "outputs": [],
   "source": [
    "# randomly split train vs test\n",
    "# generate len(df_all) Unif[0,1]\n",
    "np.random.seed(30)\n",
    "train_i = np.random.rand(len(df_all)) < .75\n",
    "df_train = df_all[train_i]\n",
    "df_test = df_all[~train_i]"
   ]
  },
  {
   "cell_type": "code",
   "execution_count": 5,
   "metadata": {
    "hideCode": false,
    "hidePrompt": false
   },
   "outputs": [],
   "source": [
    "# load rpy2.ipython to use r in jupyter notebook\n",
    "%load_ext rpy2.ipython"
   ]
  },
  {
   "cell_type": "code",
   "execution_count": 6,
   "metadata": {
    "hideCode": false,
    "hidePrompt": false
   },
   "outputs": [],
   "source": [
    "# import data frames to R environment\n",
    "%R -i df_train \n",
    "%R -i df_test\n",
    "%R -i df_all"
   ]
  },
  {
   "cell_type": "code",
   "execution_count": 7,
   "metadata": {
    "hideCode": false,
    "hidePrompt": false
   },
   "outputs": [],
   "source": [
    "%%R\n",
    "mod1 <- glm(as.factor(result) ~ \n",
    "            as.factor(proc), family = \"binomial\", \n",
    "            data = df_train)\n",
    "mod2 <- glm(as.factor(result) ~ as.factor(proc) \n",
    "            + as.factor(size), family = \"binomial\", \n",
    "            data = df_train)"
   ]
  },
  {
   "cell_type": "markdown",
   "metadata": {},
   "source": [
    "### Model 1\n",
    "\n",
    "$$log\\left(\\frac{p_\\rm{success}}{1-p_\\rm{success}}\\right) = \\beta_0 + \\beta_1X_\\rm{procedure}$$"
   ]
  },
  {
   "cell_type": "code",
   "execution_count": 8,
   "metadata": {},
   "outputs": [
    {
     "name": "stdout",
     "output_type": "stream",
     "text": [
      "\n",
      "Call:\n",
      "glm(formula = as.factor(result) ~ as.factor(proc), family = \"binomial\", \n",
      "    data = df_train)\n",
      "\n",
      "Deviance Residuals: \n",
      "    Min       1Q   Median       3Q      Max  \n",
      "-1.9034   0.5974   0.5974   0.6883   0.6883  \n",
      "\n",
      "Coefficients:\n",
      "                    Estimate Std. Error z value Pr(>|z|)    \n",
      "(Intercept)           1.6330     0.1687   9.680   <2e-16 ***\n",
      "as.factor(proc)open  -0.3135     0.2243  -1.398    0.162    \n",
      "---\n",
      "Signif. codes:  0 ‘***’ 0.001 ‘**’ 0.01 ‘*’ 0.05 ‘.’ 0.1 ‘ ’ 1\n",
      "\n",
      "(Dispersion parameter for binomial family taken to be 1)\n",
      "\n",
      "    Null deviance: 514.19  on 531  degrees of freedom\n",
      "Residual deviance: 512.22  on 530  degrees of freedom\n",
      "AIC: 516.22\n",
      "\n",
      "Number of Fisher Scoring iterations: 4\n",
      "\n"
     ]
    }
   ],
   "source": [
    "%%R \n",
    "print(summary(mod1))"
   ]
  },
  {
   "cell_type": "markdown",
   "metadata": {},
   "source": [
    "### Model 2\n",
    "\n",
    "$$log\\left(\\frac{p_\\rm{success}}{1-p_\\rm{success}}\\right) = \\beta_0 + \\beta_1X_\\rm{procedure} + \\beta_2X_\\rm{size}$$"
   ]
  },
  {
   "cell_type": "code",
   "execution_count": 9,
   "metadata": {},
   "outputs": [
    {
     "name": "stdout",
     "output_type": "stream",
     "text": [
      "\n",
      "Call:\n",
      "glm(formula = as.factor(result) ~ as.factor(proc) + as.factor(size), \n",
      "    family = \"binomial\", data = df_train)\n",
      "\n",
      "Deviance Residuals: \n",
      "    Min       1Q   Median       3Q      Max  \n",
      "-2.2897   0.3886   0.4966   0.7680   0.9526  \n",
      "\n",
      "Coefficients:\n",
      "                    Estimate Std. Error z value Pr(>|z|)    \n",
      "(Intercept)           0.5549     0.2603   2.132   0.0330 *  \n",
      "as.factor(proc)open   0.5150     0.2823   1.824   0.0681 .  \n",
      "as.factor(size)le2    1.4759     0.2953   4.997 5.81e-07 ***\n",
      "---\n",
      "Signif. codes:  0 ‘***’ 0.001 ‘**’ 0.01 ‘*’ 0.05 ‘.’ 0.1 ‘ ’ 1\n",
      "\n",
      "(Dispersion parameter for binomial family taken to be 1)\n",
      "\n",
      "    Null deviance: 514.19  on 531  degrees of freedom\n",
      "Residual deviance: 484.89  on 529  degrees of freedom\n",
      "AIC: 490.89\n",
      "\n",
      "Number of Fisher Scoring iterations: 4\n",
      "\n"
     ]
    }
   ],
   "source": [
    "%%R\n",
    "print(summary(mod2))"
   ]
  },
  {
   "cell_type": "markdown",
   "metadata": {},
   "source": [
    "### Odd ratios of success in open vs. percutaneous"
   ]
  },
  {
   "cell_type": "code",
   "execution_count": 10,
   "metadata": {},
   "outputs": [],
   "source": [
    "%%R\n",
    "ors = as.data.frame(cbind(\n",
    "    c(exp(coef(mod1)[2]), coef(mod1)[2]),\n",
    "    c(exp(coef(mod2)[2]), coef(mod2)[2])\n",
    ")) \n",
    "colnames(ors) <- c('Model 1', 'Model 2')\n",
    "rownames(ors) <- c('Odd ratio', 'Log odd ratio')"
   ]
  },
  {
   "cell_type": "code",
   "execution_count": 11,
   "metadata": {},
   "outputs": [
    {
     "data": {
      "text/html": [
       "<div>\n",
       "<style scoped>\n",
       "    .dataframe tbody tr th:only-of-type {\n",
       "        vertical-align: middle;\n",
       "    }\n",
       "\n",
       "    .dataframe tbody tr th {\n",
       "        vertical-align: top;\n",
       "    }\n",
       "\n",
       "    .dataframe thead th {\n",
       "        text-align: right;\n",
       "    }\n",
       "</style>\n",
       "<table border=\"1\" class=\"dataframe\">\n",
       "  <thead>\n",
       "    <tr style=\"text-align: right;\">\n",
       "      <th></th>\n",
       "      <th>Model 1</th>\n",
       "      <th>Model 2</th>\n",
       "    </tr>\n",
       "  </thead>\n",
       "  <tbody>\n",
       "    <tr>\n",
       "      <th>Odd ratio</th>\n",
       "      <td>0.731</td>\n",
       "      <td>1.674</td>\n",
       "    </tr>\n",
       "    <tr>\n",
       "      <th>Log odd ratio</th>\n",
       "      <td>-0.314</td>\n",
       "      <td>0.515</td>\n",
       "    </tr>\n",
       "  </tbody>\n",
       "</table>\n",
       "</div>"
      ],
      "text/plain": [
       "               Model 1  Model 2\n",
       "Odd ratio        0.731    1.674\n",
       "Log odd ratio   -0.314    0.515"
      ]
     },
     "execution_count": 11,
     "metadata": {},
     "output_type": "execute_result"
    }
   ],
   "source": [
    "%R round(ors, 3)"
   ]
  },
  {
   "cell_type": "markdown",
   "metadata": {},
   "source": [
    "### Python version for reference (only model 2)"
   ]
  },
  {
   "cell_type": "code",
   "execution_count": 12,
   "metadata": {},
   "outputs": [
    {
     "name": "stdout",
     "output_type": "stream",
     "text": [
      "Optimization terminated successfully.\n",
      "         Current function value: 0.455724\n",
      "         Iterations 6\n",
      "\n",
      "##### Model 2 with `proc` and `size`. ######\n"
     ]
    },
    {
     "data": {
      "text/html": [
       "<table class=\"simpletable\">\n",
       "<caption>Logit Regression Results</caption>\n",
       "<tr>\n",
       "  <th>Dep. Variable:</th>        <td>result</td>      <th>  No. Observations:  </th>  <td>   532</td>  \n",
       "</tr>\n",
       "<tr>\n",
       "  <th>Model:</th>                 <td>Logit</td>      <th>  Df Residuals:      </th>  <td>   529</td>  \n",
       "</tr>\n",
       "<tr>\n",
       "  <th>Method:</th>                 <td>MLE</td>       <th>  Df Model:          </th>  <td>     2</td>  \n",
       "</tr>\n",
       "<tr>\n",
       "  <th>Date:</th>            <td>Thu, 23 Jan 2020</td> <th>  Pseudo R-squ.:     </th>  <td>0.05699</td> \n",
       "</tr>\n",
       "<tr>\n",
       "  <th>Time:</th>                <td>23:18:42</td>     <th>  Log-Likelihood:    </th> <td> -242.44</td> \n",
       "</tr>\n",
       "<tr>\n",
       "  <th>converged:</th>             <td>True</td>       <th>  LL-Null:           </th> <td> -257.10</td> \n",
       "</tr>\n",
       "<tr>\n",
       "  <th>Covariance Type:</th>     <td>nonrobust</td>    <th>  LLR p-value:       </th> <td>4.330e-07</td>\n",
       "</tr>\n",
       "</table>\n",
       "<table class=\"simpletable\">\n",
       "<tr>\n",
       "      <td></td>         <th>coef</th>     <th>std err</th>      <th>z</th>      <th>P>|z|</th>  <th>[0.025</th>    <th>0.975]</th>  \n",
       "</tr>\n",
       "<tr>\n",
       "  <th>intercept</th> <td>    0.5549</td> <td>    0.260</td> <td>    2.132</td> <td> 0.033</td> <td>    0.045</td> <td>    1.065</td>\n",
       "</tr>\n",
       "<tr>\n",
       "  <th>proc</th>      <td>    0.5150</td> <td>    0.282</td> <td>    1.824</td> <td> 0.068</td> <td>   -0.038</td> <td>    1.068</td>\n",
       "</tr>\n",
       "<tr>\n",
       "  <th>size</th>      <td>    1.4759</td> <td>    0.295</td> <td>    4.997</td> <td> 0.000</td> <td>    0.897</td> <td>    2.055</td>\n",
       "</tr>\n",
       "</table>"
      ],
      "text/plain": [
       "<class 'statsmodels.iolib.summary.Summary'>\n",
       "\"\"\"\n",
       "                           Logit Regression Results                           \n",
       "==============================================================================\n",
       "Dep. Variable:                 result   No. Observations:                  532\n",
       "Model:                          Logit   Df Residuals:                      529\n",
       "Method:                           MLE   Df Model:                            2\n",
       "Date:                Thu, 23 Jan 2020   Pseudo R-squ.:                 0.05699\n",
       "Time:                        23:18:42   Log-Likelihood:                -242.44\n",
       "converged:                       True   LL-Null:                       -257.10\n",
       "Covariance Type:            nonrobust   LLR p-value:                 4.330e-07\n",
       "==============================================================================\n",
       "                 coef    std err          z      P>|z|      [0.025      0.975]\n",
       "------------------------------------------------------------------------------\n",
       "intercept      0.5549      0.260      2.132      0.033       0.045       1.065\n",
       "proc           0.5150      0.282      1.824      0.068      -0.038       1.068\n",
       "size           1.4759      0.295      4.997      0.000       0.897       2.055\n",
       "==============================================================================\n",
       "\"\"\""
      ]
     },
     "metadata": {},
     "output_type": "display_data"
    },
    {
     "name": "stdout",
     "output_type": "stream",
     "text": [
      "Model 2 odd ratio of success for open vs. percutaneous\n",
      "Odd ratio: 1.674\n",
      "Log odd ratio: 0.515\n"
     ]
    }
   ],
   "source": [
    "import statsmodels.discrete.discrete_model as sm\n",
    "import statsmodels.tools as stool\n",
    "\n",
    "# sm.Logit expects numeric arrays\n",
    "df_py = df_all.apply(lambda col: col.cat.codes)\n",
    "df_py['intercept'] = 1 # needs to add the intercept term manually\n",
    "df_py_train = df_py[train_i]\n",
    "# specify and fit models\n",
    "mdl_2 = sm.Logit(\n",
    "    df_py_train['result'], \n",
    "    df_py_train[['intercept', 'proc', 'size']])\n",
    "fitted_2 = mdl_2.fit()\n",
    "\n",
    "# print results \n",
    "print(\"\\n##### Model 2 with `proc` and `size`. ######\")\n",
    "display(fitted_2.summary())\n",
    "# calculate odd ratios\n",
    "# fitted_1.params\n",
    "lor2 = fitted_2.params[1]\n",
    "print('Model 2 odd ratio of success for open vs. percutaneous')\n",
    "print('Odd ratio: {:.3f}'.format(np.exp(lor2)))\n",
    "print('Log odd ratio: {:.3f}'.format(lor2))"
   ]
  },
  {
   "cell_type": "markdown",
   "metadata": {
    "hideCode": false,
    "hidePrompt": false
   },
   "source": [
    "# Question 5\n",
    "\n",
    "\n",
    "_Construct an ROC curve for the model in 4. What is the accuracy of the model(s) in 4.?  What do you observe?_"
   ]
  },
  {
   "cell_type": "markdown",
   "metadata": {},
   "source": [
    "### Model 1"
   ]
  },
  {
   "cell_type": "code",
   "execution_count": 19,
   "metadata": {},
   "outputs": [
    {
     "name": "stderr",
     "output_type": "stream",
     "text": [
      "R[write to console]: Setting levels: control = failure, case = success\n",
      "\n",
      "R[write to console]: Setting direction: controls < cases\n",
      "\n"
     ]
    },
    {
     "data": {
      "image/png": "[encoded data removed]"
     },
     "metadata": {},
     "output_type": "display_data"
    }
   ],
   "source": [
    "%%R\n",
    "options(warn=-1)\n",
    "# plot ROC usingn pROC library\n",
    "library(pROC)\n",
    "pred1 <- predict(mod1, newdata = df_test, type = \"response\")\n",
    "plot.roc(df_test$result, pred1, print.auc = TRUE);"
   ]
  },
  {
   "cell_type": "markdown",
   "metadata": {},
   "source": [
    "### Model 2"
   ]
  },
  {
   "cell_type": "code",
   "execution_count": 20,
   "metadata": {
    "hideCode": false,
    "hidePrompt": false,
    "scrolled": true
   },
   "outputs": [
    {
     "name": "stderr",
     "output_type": "stream",
     "text": [
      "R[write to console]: Setting levels: control = failure, case = success\n",
      "\n",
      "R[write to console]: Setting direction: controls < cases\n",
      "\n"
     ]
    },
    {
     "data": {
      "image/png": "[encoded data removed]"
     },
     "metadata": {},
     "output_type": "display_data"
    }
   ],
   "source": [
    "%%R\n",
    "pred2 <- predict(mod2, newdata = df_test, type = \"response\")\n",
    "plot.roc(df_test$result, pred2, print.auc = TRUE)"
   ]
  },
  {
   "cell_type": "markdown",
   "metadata": {
    "hideCode": false,
    "hidePrompt": false
   },
   "source": [
    "# Question 6\n",
    "\n",
    "_The [\"Objective of stratification is to fix the level of the confounders and produce groups within which the confounder does not vary. Then evaluate the exposure-outcome association within each stratum of the confounder. So within each stratum, the confounder cannot confound because it does not vary across the exposure-outcome.\"](https://www.ncbi.nlm.nih.gov/pmc/articles/PMC4017459/) Calculate the common/pooled odds-ratio (sometimes called the Mantel Haenszel odds ratio) of success in open versus percutaneous.  Does a stratified analysis seem appropriate in this case?  Compare the stratified analysis to the models in 4?_"
   ]
  },
  {
   "cell_type": "code",
   "execution_count": 15,
   "metadata": {
    "hideCode": false,
    "hidePrompt": false
   },
   "outputs": [
    {
     "data": {
      "text/html": [
       "<table class=\"simpletable\">\n",
       "<tr>\n",
       "          <td></td>          <th>Estimate</th>    <th>LCB</th>    <th>UCB</th> \n",
       "</tr>\n",
       "<tr>\n",
       "  <th>Pooled odds</th>           <td>1.748</td>   <td>0.980</td> <td>3.118</td>\n",
       "</tr>\n",
       "<tr>\n",
       "  <th>Pooled log odds</th>       <td>0.559</td>  <td>-0.020</td> <td>1.137</td>\n",
       "</tr>\n",
       "<tr>\n",
       "  <th>Pooled risk ratio</th>     <td>1.536</td>        <td></td>      <td></td>\n",
       "</tr>\n",
       "<tr>\n",
       "  <th></th>                           <td></td>        <td></td>      <td></td>\n",
       "</tr>\n",
       "<tr>\n",
       "          <td></td>         <th>Statistic</th> <th>P-value</th> <th></th>\n",
       "</tr>\n",
       "<tr>\n",
       "  <th>Test of OR=1</th>         <td>3.341</td>   <td>0.068</td> <td></td>\n",
       "</tr>\n",
       "<tr>\n",
       "  <th>Test constant OR</th>     <td>3.216</td>   <td>0.073</td> <td></td>\n",
       "</tr>\n",
       "<tr>\n",
       "          <td></td>          <th></th>   <th></th> <th></th>\n",
       "</tr>\n",
       "<tr>\n",
       "  <th>Number of tables</th>   <td>2</td> <td></td> <td></td>\n",
       "</tr>\n",
       "<tr>\n",
       "  <th>Min n</th>            <td>257</td> <td></td> <td></td>\n",
       "</tr>\n",
       "<tr>\n",
       "  <th>Max n</th>            <td>275</td> <td></td> <td></td>\n",
       "</tr>\n",
       "<tr>\n",
       "  <th>Avg n</th>            <td>266</td> <td></td> <td></td>\n",
       "</tr>\n",
       "<tr>\n",
       "  <th>Total n</th>          <td>532</td> <td></td> <td></td>\n",
       "</tr>\n",
       "</table>"
      ],
      "text/plain": [
       "<class 'statsmodels.iolib.table.SimpleTable'>"
      ]
     },
     "execution_count": 15,
     "metadata": {},
     "output_type": "execute_result"
    }
   ],
   "source": [
    "import statsmodels.api as sm\n",
    "\n",
    "piv1 = pd.pivot_table(\n",
    "    df_train, index = ['size', 'proc'],\n",
    "    columns = ['result'],\n",
    "    aggfunc = len)\n",
    "mat = piv1.values\n",
    "tables = np.concatenate((\n",
    "    mat[0], mat[1])), np.concatenate((mat[2], mat[3])\n",
    "                                    )\n",
    "t1 = np.reshape(tables[0], (2,2))\n",
    "t2 = np.reshape(tables[1], (2,2))\n",
    "tables = [t1, t2]\n",
    "st = sm.stats.StratifiedTable(tables)\n",
    "st.summary()"
   ]
  },
  {
   "cell_type": "markdown",
   "metadata": {
    "hideCode": false,
    "hidePrompt": false
   },
   "source": [
    "The results of the Mantel-Haenszel _(1.748 in natural scale and 0.559 in log scale)_ and the logistic regression model `mod2` _(1.674 in natural scale and 0.515 in log scale)_ produce similar estimates of the odds ratio for procedure.  Open compared to percutaneous may lead to better surgical outcomes, although further study would be required."
   ]
  },
  {
   "cell_type": "markdown",
   "metadata": {
    "hideCode": false,
    "hidePrompt": false
   },
   "source": [
    "## Checking OR calculations\n",
    "\n",
    "Double check pooled OR calculation.  The estimator for pooled odds ratio is:\n",
    "\n",
    "$$\\hat OR_{MH} = \\frac{\\sum_{i=1}^k a_id_i/n_i}{\\sum_{i=1}^k b_ic_i/n_i},$$\n",
    "\n",
    "where $k=1,2$ is the number of tables, $n_i = a_i+b_i+c_i+d_i$,\n",
    "\n",
    "| proc | success | fail |\n",
    "|------|------|---------|\n",
    "| open | $a_i$  | $b_i$     |\n",
    "| perc  | $c_i$  | $d_i$     |\n",
    "\n",
    "$i=1,2$ corresponds to $\\leq 2cm$ and $>2cm$."
   ]
  },
  {
   "cell_type": "code",
   "execution_count": 16,
   "metadata": {},
   "outputs": [
    {
     "name": "stdout",
     "output_type": "stream",
     "text": [
      "Pooled odd ratio: 1.7483\n",
      "Pooled log odd ratio: 0.5586\n"
     ]
    }
   ],
   "source": [
    "def get_mh_or(df, by='size', res='result', treat='proc'):\n",
    "    \"\"\"\n",
    "    Calculate Mantel-Haenszel odd ratio\n",
    "    for the renal calculi data.\n",
    "    \"\"\"\n",
    "    # divide into subsets by 'by'\n",
    "    subs = [df[df[by]==b] for b in df[by].unique()]\n",
    "    # create contingency tables\n",
    "    conts = [pd.crosstab(\n",
    "        sub[treat], sub[res], \n",
    "        margins = True\n",
    "    ) for sub in subs]\n",
    "    # calculate a_i*d_i/n_i for each table\n",
    "    numers = [\n",
    "        c.loc['open','success']*c.loc['perc','failure'] / \n",
    "        c.loc['All','All']\n",
    "        for c in conts\n",
    "    ]\n",
    "    # calculate b_i*c_i/n_i for each table\n",
    "    denoms = [\n",
    "        c.loc['open','failure']*c.loc['perc','success'] / \n",
    "        c.loc['All','All']\n",
    "        for c in conts\n",
    "    ]\n",
    "    mh = np.sum(numers)/np.sum(denoms)\n",
    "    return mh\n",
    "    \n",
    "mh_or = get_mh_or(df_train)\n",
    "log_mh = np.log(mh_or)\n",
    "print('Pooled odd ratio: {:.4f}'.format(mh_or))\n",
    "print('Pooled log odd ratio: {:.4f}'.format(log_mh))"
   ]
  },
  {
   "cell_type": "markdown",
   "metadata": {},
   "source": [
    "The calculated values match the outputs from the `statsmodels` package."
   ]
  },
  {
   "cell_type": "markdown",
   "metadata": {
    "hideCode": false,
    "hidePrompt": false
   },
   "source": [
    "# Question 7\n",
    "\n",
    "_Is the odds ratio of success similar to the [relative risk](https://www.ncbi.nlm.nih.gov/books/NBK430824/) of success in this case (i.e., open vs. percutaneous)? Briefly, explain why it's the same or different?_"
   ]
  },
  {
   "cell_type": "markdown",
   "metadata": {},
   "source": [
    "### Relative risk of success for $>=2\\rm{cm}$ group\n",
    "\n",
    "$$\\frac{\n",
    "P\\left(\\rm{succes}\\vert\\rm{proc}=\\rm{open}\\right)}{\n",
    "P\\left(\\rm{success}\\vert\\rm{proc}=\\rm{perc}\\right)}$$"
   ]
  },
  {
   "cell_type": "markdown",
   "metadata": {},
   "source": [
    "### Relative risk of success for $<2\\rm{cm}$ group\n",
    "\n",
    "$$\\frac{\n",
    "P\\left(\\rm{succes}\\vert\\rm{proc}=\\rm{open}\\right)}{\n",
    "P\\left(\\rm{success}\\vert\\rm{proc}=\\rm{perc}\\right)}$$"
   ]
  },
  {
   "cell_type": "code",
   "execution_count": 17,
   "metadata": {},
   "outputs": [],
   "source": [
    "# define functions\n",
    "def get_rr(df):\n",
    "    \"\"\"\n",
    "    Calculate relative risks\n",
    "    for the renal calculi data.\n",
    "    \"\"\"\n",
    "    tab = pd.crosstab(\n",
    "        df['proc'], df['result'], \n",
    "        margins = True)\n",
    "    rr = (\n",
    "        tab.loc['open','success']*tab.loc['perc', 'All'])/(\n",
    "        tab.loc['open', 'All']*tab.loc['perc', 'success'])\n",
    "    return rr\n",
    "\n",
    "def get_or(df):\n",
    "    \"\"\"\n",
    "    Calculate odd ratios\n",
    "    for the renal calculi data.\n",
    "    \"\"\"\n",
    "    tab = pd.crosstab(\n",
    "        df['proc'], df['result'], \n",
    "        margins = True)\n",
    "    oddr = (\n",
    "        tab.loc['open','success']*tab.loc['perc', 'failure'])/(\n",
    "        tab.loc['open', 'failure']*tab.loc['perc', 'success'])\n",
    "    return oddr\n",
    "\n",
    "# calculate and save as a data frame\n",
    "ratios = np.stack([\n",
    "    np.array((get_rr(df_le2), get_rr(df_ge2), get_rr(df_all))),\n",
    "    np.array((get_or(df_le2), get_or(df_ge2), get_or(df_all)))\n",
    "], axis=1)\n",
    "rr_or = pd.DataFrame(\n",
    "    ratios, \n",
    "    columns=['Relative Risks', 'Odd Ratios'],\n",
    "    index=['<2cm Group', '>=2cm Group', 'All']\n",
    ")"
   ]
  },
  {
   "cell_type": "markdown",
   "metadata": {},
   "source": [
    "### Comparison"
   ]
  },
  {
   "cell_type": "code",
   "execution_count": 18,
   "metadata": {},
   "outputs": [
    {
     "data": {
      "text/html": [
       "<div>\n",
       "<style scoped>\n",
       "    .dataframe tbody tr th:only-of-type {\n",
       "        vertical-align: middle;\n",
       "    }\n",
       "\n",
       "    .dataframe tbody tr th {\n",
       "        vertical-align: top;\n",
       "    }\n",
       "\n",
       "    .dataframe thead th {\n",
       "        text-align: right;\n",
       "    }\n",
       "</style>\n",
       "<table border=\"1\" class=\"dataframe\">\n",
       "  <thead>\n",
       "    <tr style=\"text-align: right;\">\n",
       "      <th></th>\n",
       "      <th>Relative Risks</th>\n",
       "      <th>Odd Ratios</th>\n",
       "    </tr>\n",
       "  </thead>\n",
       "  <tbody>\n",
       "    <tr>\n",
       "      <th>&lt;2cm Group</th>\n",
       "      <td>1.074</td>\n",
       "      <td>2.077</td>\n",
       "    </tr>\n",
       "    <tr>\n",
       "      <th>&gt;=2cm Group</th>\n",
       "      <td>1.062</td>\n",
       "      <td>1.229</td>\n",
       "    </tr>\n",
       "    <tr>\n",
       "      <th>All</th>\n",
       "      <td>0.945</td>\n",
       "      <td>0.748</td>\n",
       "    </tr>\n",
       "  </tbody>\n",
       "</table>\n",
       "</div>"
      ],
      "text/plain": [
       "             Relative Risks  Odd Ratios\n",
       "<2cm Group            1.074       2.077\n",
       ">=2cm Group           1.062       1.229\n",
       "All                   0.945       0.748"
      ]
     },
     "execution_count": 18,
     "metadata": {},
     "output_type": "execute_result"
    }
   ],
   "source": [
    "np.round(rr_or, 3)"
   ]
  },
  {
   "cell_type": "markdown",
   "metadata": {},
   "source": [
    "The values are consistent in their directions around 1. That is, both values \n",
    "The values are different since the denominators for risks and odds are different. "
   ]
  },
  {
   "cell_type": "markdown",
   "metadata": {},
   "source": [
    "# Question 8\n",
    "\n",
    "_Which procedure (open or percutaneous) is more effective?  Explain your reasoning._"
   ]
  },
  {
   "cell_type": "markdown",
   "metadata": {},
   "source": [
    "The analysis shows that the open procedure leads to more successful surgical outcomes when the size of the stone is $<2cm$ and $>2cm$.  The appropriate analysis is to either adjust for size using logistic regression or a stratified analysis using the MH pooled odds ratio.   "
   ]
  }
 ],
 "metadata": {
  "hide_code_all_hidden": true,
  "hide_input": false,
  "kernelspec": {
   "display_name": "Python 3",
   "language": "python",
   "name": "python3"
  },
  "language_info": {
   "codemirror_mode": {
    "name": "ipython",
    "version": 3
   },
   "file_extension": ".py",
   "mimetype": "text/x-python",
   "name": "python",
   "nbconvert_exporter": "python",
   "pygments_lexer": "ipython3",
   "version": "3.8.1"
  }
 },
 "nbformat": 4,
 "nbformat_minor": 2
}
