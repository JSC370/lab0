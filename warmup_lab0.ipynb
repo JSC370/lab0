{
 "cells": [
  {
   "cell_type": "markdown",
   "metadata": {},
   "source": [
    "# JSC370 - Hello JSC370\n",
    "\n",
    "\n",
    "## Lab 0 Workflow\n",
    "\n",
    "1. During the first hour of the lab develop a plan for how you will approach each question below. \n",
    "\n",
    "\n",
    "2. During the second half of the lab give a brief 3-5 minute presentation on how you will answer each of the questions below.\n",
    "\n",
    "\n",
    "## Instructions\n",
    "\n",
    "- Due date: Jan. 21, 17:00.\n",
    "\n",
    "\n",
    "- Make a copy of this notebook.\n",
    "\n",
    "\n",
    "- The notebook should be named: `jsc370_tut0_answers_lastname_studentnumber.ipynb`, where `lastname` is your last name, and `studentnumber` is your UofT student number.\n",
    "\n",
    "\n",
    "- Answer each questions in a separate cell. Indicate what question you are answering.  Markdown and code cells have been started for you below. Leave the initial comment in the code cell and heading (indicated by # Answer for qustion XX). For example, place your code for Question 1 in the code cell with comment # Enter your answer for Question 1 into this cell (remember not to delete this comment).\n",
    "\n",
    "\n",
    "- Make sure that you explain your solutions when asked and comment your code.\n",
    "\n",
    "\n",
    "- Commit and push changes to your Github repository for this lab.\n",
    "\n",
    "- Submit a pdf copy of your notebook with the answers on Quercus.  "
   ]
  },
  {
   "cell_type": "markdown",
   "metadata": {},
   "source": [
    "# Assignment\n",
    "\n",
    "The [questions](#Questions) below are based on the paper: \n",
    " \n",
    "*Charig, C. R., Webb, D. R., Payne, S. R., & Wickham, J. E. (1986). Comparison of treatment of renal calculi by open surgery, percutaneous nephrolithotomy, and extracorporeal shockwave lithotripsy. Br Med J (Clin Res Ed), 292(6524), 879-882.*\n",
    "\n",
    "The paper is included in the Github repository.\n",
    "\n",
    "\n",
    "\n",
    "# Questions\n",
    "\n",
    "Use the Charig et al. paper to answer the following questions.  \n",
    "\n",
    "0. Is this an observational study or experiment?  Briefly explain. (see this [reference](http://propensityscoreanalysis.pbworks.com/f/BehStatObserv.study.rosenbaum05.pdf) for a discussion of the two types of studies)\n",
    "\n",
    "<mark>**Ignore the ESWL group in all the questions below.  In other words, all the questions below relate to the percutaneous nephrolithotomy, and open surgery subjects in the study.**</mark>\n",
    "\n",
    "\n",
    "1.  Use Python or R to write **functions** that can simulate this study's data set by returning a Pandas data frame/R data frame, with appropriate labels for columns and rows.  It should contain information on patients that received open stone removal and percutaneous removal.  In particular the data set should contain the type of procedure, the outcome of the procedure, and the size of the kidney stone.  \n",
    "\n",
    "\n",
    "2. Calculate two-way contingency tables of success versus procedure: \n",
    "\n",
    "    - among all patients; \n",
    "\n",
    "    - patients with a stone size $\\le 2cm$; and \n",
    "\n",
    "    - patients with a stone size $> 2cm$.  \n",
    "\n",
    "   What do you observe?\n",
    "\n",
    "\n",
    "\n",
    "3. Briefly explain why kidney stone size is a confounding variable.\n",
    "\n",
    "\n",
    "4. Fit two logistic regression models to predict outcome: (A) with only procedure as a covariate/feature; and (B) with procedure and size as covariates/features.  Which model gives a more accurate estimate of the odds ratio of success in open versus percutaneous?  Briefly explain.\n",
    "\n",
    "5. Construct an ROC curve for the model in 4. What is the accuracy of the model(s) in 4.?  What do you observe?\n",
    "\n",
    "\n",
    "\n",
    "6.  The [\"Objective of stratification is to fix the level of the confounders and produce groups within which the confounder does not vary. Then evaluate the exposure-outcome association within each stratum of the confounder. So within each stratum, the confounder cannot confound because it does not vary across the exposure-outcome.\"](https://www.ncbi.nlm.nih.gov/pmc/articles/PMC4017459/) Calculate the common/pooled odds-ratio (sometimes called the Mantel Haenszel odds ratio) of success in open versus percutaneous.  Does a stratified analysis seem appropriate in this case?  Compare the stratified analysis to the models in 4?    \n",
    "\n",
    "\n",
    "7. Is the odds ratio of success similar to the [relative risk](https://www.ncbi.nlm.nih.gov/books/NBK430824/) of success in this case (i.e., open vs. percutaneous)? Briefly, explain why it's the same or different? \n",
    "\n",
    "\n",
    "\n",
    "8. Which procedure (open or percutaneous) is more effective?  Explain your reasoning."
   ]
  },
  {
   "cell_type": "markdown",
   "metadata": {},
   "source": [
    "# Question 0"
   ]
  },
  {
   "cell_type": "code",
   "execution_count": null,
   "metadata": {},
   "outputs": [],
   "source": [
    "# answer for question 0"
   ]
  },
  {
   "cell_type": "markdown",
   "metadata": {},
   "source": [
    "# Question 1"
   ]
  },
  {
   "cell_type": "code",
   "execution_count": null,
   "metadata": {},
   "outputs": [],
   "source": [
    "# answer for question 1"
   ]
  },
  {
   "cell_type": "markdown",
   "metadata": {},
   "source": [
    "\n",
    "# Add markdown/code cells for the remaining questions ..."
   ]
  },
  {
   "cell_type": "code",
   "execution_count": null,
   "metadata": {},
   "outputs": [],
   "source": []
  }
 ],
 "metadata": {
  "hide_input": false,
  "kernelspec": {
   "display_name": "Python 3",
   "language": "python",
   "name": "python3"
  },
  "language_info": {
   "codemirror_mode": {
    "name": "ipython",
    "version": 3
   },
   "file_extension": ".py",
   "mimetype": "text/x-python",
   "name": "python",
   "nbconvert_exporter": "python",
   "pygments_lexer": "ipython3",
   "version": "3.7.6"
  }
 },
 "nbformat": 4,
 "nbformat_minor": 2
}
